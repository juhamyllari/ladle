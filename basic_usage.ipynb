{
 "cells": [
  {
   "cell_type": "code",
   "execution_count": 8,
   "id": "2ecd8bc3",
   "metadata": {},
   "outputs": [],
   "source": [
    "import numpy as np\n",
    "import pandas as pd\n",
    "import os\n",
    "from logtools import (\n",
    "    get_runs_files_df,\n",
    "    reference_holdout_split,\n",
    "    get_embedded_ref_entries_df,\n",
    "    get_embedded_holdout_entries_df,\n",
    "    calculate_distances_all_log_types,\n",
    "    calculate_distances,\n",
    "    calculate_test_anomaly_scores,\n",
    "    calculate_baselines,\n",
    "    replace_substrings,\n",
    ")\n",
    "from sentence_transformers import SentenceTransformer\n",
    "import faiss"
   ]
  },
  {
   "cell_type": "code",
   "execution_count": null,
   "id": "b3d10810",
   "metadata": {},
   "outputs": [],
   "source": [
    "# Set the data directory.\n",
    "# Every run should be its own directory under it.\n",
    "data_dir = 'data'\n",
    "\n",
    "# Set the model.\n",
    "model_identifier = \"all-MiniLM-L6-v2\"\n",
    "m = SentenceTransformer(model_identifier)\n",
    "\n",
    "# Set window size.\n",
    "window_size = 4\n",
    "\n",
    "# Set k, the number of nearest matches to look for in the reference data.\n",
    "k = 4\n",
    "\n",
    "# Set the distance metric.\n",
    "metric = 'squared_euclidean'\n",
    "\n",
    "# Use a single GPU as the faiss resource.\n",
    "res = faiss.StandardGpuResources()  "
   ]
  },
  {
   "cell_type": "code",
   "execution_count": null,
   "id": "e4baa56d",
   "metadata": {},
   "outputs": [],
   "source": [
    "# Create a df of all log file names in all runs.\n",
    "runs_files_df = get_runs_files_df(data_dir)\n",
    "\n",
    "# Split the data into reference and holdout sets.\n",
    "reference_files_df, holdout_files_df = reference_holdout_split(runs_files_df)\n",
    "\n",
    "# Determine the reference log types.\n",
    "reference_log_types = reference_files_df['log_type'].unique()\n",
    "\n",
    "# Determine the reference runs.\n",
    "holdout_runs = holdout_files_df['run'].unique()\n",
    "\n",
    "# Choose a test run.\n",
    "test_run = holdout_runs[0]\n",
    "test_log_types = holdout_files_df[holdout_files_df['run'] == test_run]['log_type'].unique()"
   ]
  },
  {
   "cell_type": "code",
   "execution_count": null,
   "id": "3a06e0ba",
   "metadata": {},
   "outputs": [],
   "source": [
    "# Embed the reference entries.\n",
    "ref_embeddings = get_embedded_ref_entries_df(\n",
    "    reference_files_df,\n",
    "    data_dir,\n",
    "    m,\n",
    "    window_size)\n"
   ]
  },
  {
   "cell_type": "code",
   "execution_count": null,
   "id": "ee3aa70c",
   "metadata": {},
   "outputs": [],
   "source": [
    "# Embed the holdout entries.\n",
    "holdout_embeddings = get_embedded_holdout_entries_df(\n",
    "    reference_log_types,\n",
    "    holdout_files_df,\n",
    "    data_dir,\n",
    "    m,\n",
    "    window_size)\n"
   ]
  },
  {
   "cell_type": "code",
   "execution_count": null,
   "id": "dc00239c",
   "metadata": {},
   "outputs": [],
   "source": [
    "# Calculate the distances for the test embeddings in the holdout set.\n",
    "holdout_distances = calculate_distances_all_log_types(\n",
    "    holdout_embeddings,\n",
    "    ref_embeddings,\n",
    "    res,\n",
    "    k,\n",
    "    keep_highest_only=False,\n",
    "    metric=metric,\n",
    "    )"
   ]
  },
  {
   "cell_type": "code",
   "execution_count": null,
   "id": "a0a1ee7a",
   "metadata": {},
   "outputs": [],
   "source": [
    "# Calculate the baseline distances for each log type.\n",
    "baselines = calculate_baselines(\n",
    "    test_log_types,\n",
    "    holdout_distances,\n",
    "    test_run)"
   ]
  },
  {
   "cell_type": "code",
   "execution_count": null,
   "id": "415e276d",
   "metadata": {},
   "outputs": [],
   "source": [
    "test_run_df = holdout_embeddings.query(\"run == @test_run\")"
   ]
  },
  {
   "cell_type": "code",
   "execution_count": null,
   "id": "0d842fa6",
   "metadata": {},
   "outputs": [],
   "source": [
    "scores_df = calculate_test_anomaly_scores(\n",
    "    test_run_df,\n",
    "    ref_embeddings,\n",
    "    k,\n",
    "    res,\n",
    "    baselines,\n",
    "    metric=metric,\n",
    ")"
   ]
  },
  {
   "cell_type": "code",
   "execution_count": null,
   "id": "8434bded",
   "metadata": {},
   "outputs": [],
   "source": [
    "# Sort by the anomaly score and show the top 10 entries.\n",
    "sorted_scores_df = scores_df.sort_values(by=\"anomaly_score\", ascending=False)\n",
    "sorted_scores_df = sorted_scores_df.reset_index(drop=True)\n",
    "sorted_scores_df.head(10)"
   ]
  }
 ],
 "metadata": {
  "kernelspec": {
   "display_name": "Python 3 (ipykernel)",
   "language": "python",
   "name": "python3"
  },
  "language_info": {
   "codemirror_mode": {
    "name": "ipython",
    "version": 3
   },
   "file_extension": ".py",
   "mimetype": "text/x-python",
   "name": "python",
   "nbconvert_exporter": "python",
   "pygments_lexer": "ipython3",
   "version": "3.12.8"
  }
 },
 "nbformat": 4,
 "nbformat_minor": 5
}
